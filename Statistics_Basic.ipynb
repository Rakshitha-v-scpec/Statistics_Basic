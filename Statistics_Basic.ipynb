{
  "nbformat": 4,
  "nbformat_minor": 0,
  "metadata": {
    "colab": {
      "provenance": []
    },
    "kernelspec": {
      "name": "python3",
      "display_name": "Python 3"
    },
    "language_info": {
      "name": "python"
    }
  },
  "cells": [
    {
      "cell_type": "markdown",
      "source": [
        "**Statistics Basics**"
      ],
      "metadata": {
        "id": "4B7zap-9PpvN"
      }
    },
    {
      "cell_type": "markdown",
      "source": [
        "1. What is statistics, and why is it important?\n",
        "\n",
        "    Statistics is the branch of mathematics that deals with collecting, organizing, analyzing, interpreting, and presenting data. It helps us make sense of large amounts of information by summarizing it in a meaningful way and making informed decisions based on that data."
      ],
      "metadata": {
        "id": "mqEj1KAcPtlN"
      }
    },
    {
      "cell_type": "markdown",
      "source": [
        "2.  What are the two main types of statistics?\n",
        "\n",
        "      -  Descriptive Statistics\n",
        "      - Inferential Statistics"
      ],
      "metadata": {
        "id": "v9Uh4O3CP5hz"
      }
    },
    {
      "cell_type": "markdown",
      "source": [
        "3.  What are descriptive statistics?\n",
        "\n",
        "    Descriptive statistics are used to summarize and describe the main features of a dataset"
      ],
      "metadata": {
        "id": "Mvpr8QkPQFXl"
      }
    },
    {
      "cell_type": "markdown",
      "source": [
        "4. What is inferential statistics?\n",
        "\n",
        "    Inferential statistics allow us to make predictions or generalizations about a larger population based on a sample of data."
      ],
      "metadata": {
        "id": "2TJ-ALgLQPSr"
      }
    },
    {
      "cell_type": "markdown",
      "source": [
        "5. What is sampling in statistics?\n",
        "\n",
        "    Sampling in statistics is the process of selecting a subset of individuals or items (a sample) from a larger group (the population) to analyze and draw conclusions about the whole group."
      ],
      "metadata": {
        "id": "h2pKT7cHQbb9"
      }
    },
    {
      "cell_type": "markdown",
      "source": [
        "6. What are the different types of sampling methods?\n",
        "\n",
        "    1. Cluster Sampling\n",
        "    2. Stratified Sampling\n",
        "    3. Systematic Sampling\n",
        "    4. Simple Sampling"
      ],
      "metadata": {
        "id": "7IjGFdLhQmMB"
      }
    },
    {
      "cell_type": "markdown",
      "source": [
        "7. What is the difference between random and non-random sampling?\n",
        "\n",
        "    Random Sampling: Each member of the population has a known and equal chance of being selected.\n",
        "\n",
        "    Non Random Sampling: Not all members of the population have a known or equal chance of being selected."
      ],
      "metadata": {
        "id": "lxjVQEVjQ9Cl"
      }
    },
    {
      "cell_type": "markdown",
      "source": [
        "8. Define and give examples of qualitative and quantitative data?\n",
        "\n",
        "    Qualitative Data\n",
        "\n",
        "    Also called categorical data, it describes qualities or characteristics that cannot be measured with numbers.\n",
        "\n",
        "    Quantitative Data\n",
        "    \n",
        "    Also called numerical data, it involves values that can be counted or measured."
      ],
      "metadata": {
        "id": "G7sOkdlORVXw"
      }
    },
    {
      "cell_type": "markdown",
      "source": [
        "9. What are the different types of data in statistics?\n",
        "\n",
        "    1. Qualitative Data (Categorical Data)\n",
        "\n",
        "         a. Nominal Data\n",
        "\n",
        "         b. Ordinal Data\n",
        "\n",
        "    2. Quantitative Data (Numerical Data)\n",
        "Represents measurable quantities and can be expressed in numbers.\n",
        "\n",
        "         a. Discrete Data\n",
        "\n",
        "         b. Continuous Data\n",
        "\n"
      ],
      "metadata": {
        "id": "Tn2f5RJ_RsDb"
      }
    },
    {
      "cell_type": "markdown",
      "source": [
        "10. Explain nominal, ordinal, interval, and ratio levels of measurement\n",
        "\n",
        "      1. Nominal: Data that consists of names, labels, or categories. There's no natural order or ranking between the categories.\n",
        "\n",
        "      2. Ordinal: Data with categories that have a natural order, but the differences between values are not measurable or consistent.\n",
        "\n",
        "      3. Interval: Numerical data with equal intervals between values, but no true zero point (zero does not mean \"none\").\n",
        "\n",
        "      4. Ratio level: The highest level of measurement. Data has equal intervals and a true zero, allowing for all mathematical operations."
      ],
      "metadata": {
        "id": "AwT3iKjxSP3t"
      }
    },
    {
      "cell_type": "markdown",
      "source": [
        "11. What is the measure of central tendency?\n",
        "\n",
        "     Measure of Central Tendency\n",
        "     \n",
        "      A measure of central tendency is a single value that represents the center or average of a dataset. It gives us a sense of the \"typical\" or \"most common\" value in the data."
      ],
      "metadata": {
        "id": "LfQmFohZSxfN"
      }
    },
    {
      "cell_type": "markdown",
      "source": [
        "12. Define mean, median, and mode.\n",
        "\n",
        "    Mean:\n",
        "\n",
        "    The mean is the average of a set of numbers. It is found by adding up all the values and then dividing by the total number of values.\n",
        "\n",
        "    Median:\n",
        "\n",
        "    The median is the middle value when the numbers are arranged in order.\n",
        "\n",
        "    If there's an odd number of values: it's the middle one.\n",
        "\n",
        "    If there's an even number: it's the average of the two middle values.\n",
        "\n",
        "     Mode:\n",
        "      \n",
        "    The mode is the number or value that occurs most frequently in a dataset.\n",
        "\n"
      ],
      "metadata": {
        "id": "1CJmdc-lS89h"
      }
    },
    {
      "cell_type": "markdown",
      "source": [
        "13. What is the significance of the measure of central tendency?\n",
        "\n",
        "      Summarize Data Simply\n",
        "\n",
        "      They provide a single value that represents the entire dataset, making large amounts of data easier to understand.\n",
        "\n",
        "      Identify the Typical Value\n",
        "\n",
        "      They tell us about the \"center\" or \"average\" case, which helps describe what is normal or expected in the data.\n",
        "\n",
        "      Facilitate Comparison\n",
        "      \n",
        "      By comparing measures like means or medians, we can compare different datasets quickly."
      ],
      "metadata": {
        "id": "0XCa0kcRTuf4"
      }
    },
    {
      "cell_type": "markdown",
      "source": [
        "14.  What is variance, and how is it calculated?\n",
        "\n",
        "    Variance is a measure of how much the values in a dataset spread out or vary from the mean (average). It tells us how dispersed the data points are around the central value.\n",
        "\n",
        "    A small variance means the data points are close to the mean.\n",
        "\n",
        "    A large variance means the data points are spread out over a wider rang"
      ],
      "metadata": {
        "id": "lshSy3vbT9_0"
      }
    },
    {
      "cell_type": "markdown",
      "source": [
        "15. What is standard deviation, and why is it important?\n",
        "\n",
        "    Standard deviation is a measure that shows how much the values in a dataset typically vary or spread out from the mean.\n",
        "\n",
        "    It is the square root of the variance.\n",
        "\n",
        "    It’s expressed in the same units as the original data, making it easier to interpret than variance.\n",
        "\n"
      ],
      "metadata": {
        "id": "FaFrYqXIUIf7"
      }
    },
    {
      "cell_type": "markdown",
      "source": [
        "16.  Define and explain the term range in statistics\n",
        "\n",
        "    Range is the simplest measure of dispersion or spread in a dataset. It tells you the difference between the largest and smallest values.\\\n",
        "\n",
        "    Data: 3, 7, 8, 15, 22\n",
        "\n",
        "    Maximum = 22\n",
        "\n",
        "    Minimum = 3\n",
        "\n",
        "    Range = 22 - 3 = 19"
      ],
      "metadata": {
        "id": "RLo90e_0UUkw"
      }
    },
    {
      "cell_type": "markdown",
      "source": [
        "17. What is the difference between variance and standard deviation?\n",
        "\n",
        "    Variance:\n",
        "\n",
        "    1. \tMeasures the average squared deviation from the mean.\n",
        "    2. Squared units of the data (e.g., meters², dollars²)\n",
        "    3. Useful in theoretical formulas and calculations.\n",
        "\n",
        "    Standard deviation:\n",
        "\n",
        "    1. Measures the average deviation from the mean in the original units.\n",
        "    2. Same units as the original data (e.g., meters, dollars)\n",
        "    3. Preferred for describing data spread in practice.\n"
      ],
      "metadata": {
        "id": "AuRIxR8TUywJ"
      }
    },
    {
      "cell_type": "markdown",
      "source": [
        "18. What is skewness in a dataset?\n",
        "\n",
        "    Skewness is a measure of the asymmetry or lack of symmetry in the distribution of data.\n",
        "\n",
        "    Positive skew (right-skewed)\n",
        "\n",
        "    Negative skew (left-skewed)\n",
        "\n",
        "    Zero skew (symmetrical distribution)"
      ],
      "metadata": {
        "id": "mX5BJgzlVb6O"
      }
    },
    {
      "cell_type": "markdown",
      "source": [
        "19. What does it mean if a dataset is positively or negatively skewed?\n",
        "\n",
        "    1. Positively Skewed (Right-Skewed) Dataset\n",
        "\n",
        "    The tail on the right side (higher values) is longer or fatter.\n",
        "\n",
        "    Most data points cluster on the left side (lower values).\n",
        "\n",
        "    The mean is greater than the median because the few large values pull the average up.\n",
        "\n",
        "    Examples:\n",
        "\n",
        "    Income distribution (a few people earn very high incomes)\n",
        "\n",
        "    Home prices in a city (few extremely expensive houses)\n",
        "\n",
        "    2. Negatively Skewed (Left-Skewed) Dataset\n",
        "\n",
        "    The tail on the left side (lower values) is longer or fatter.\n",
        "\n",
        "    Most data points cluster on the right side (higher values).\n",
        "\n",
        "    The mean is less than the median because the few very low values pull the average down.\n",
        "\n",
        "    Examples:\n",
        "\n",
        "    Age at retirement (most retire around a certain age, but some retire very early)\n",
        "\n",
        "    Scores on an easy test where most students score high, but a few score low"
      ],
      "metadata": {
        "id": "wdi8daOzVmeO"
      }
    },
    {
      "cell_type": "markdown",
      "source": [
        "20. Define and explain kurtosis?\n",
        "\n",
        "    Kurtosis is a statistical measure that describes the shape of the tails and the peakedness (sharpness) of a data distribution compared to a normal distribution.\n",
        "\n",
        "    It tells us how heavy or light the tails of the distribution are.\n",
        "\n",
        "    It indicates the presence of outliers or extreme values.\n",
        "\n",
        "    Kurtosis helps to understand whether data have more or fewer extreme values than a normal distribution"
      ],
      "metadata": {
        "id": "eQ6IpqZ0V8Fd"
      }
    },
    {
      "cell_type": "markdown",
      "source": [
        "21. What is the purpose of covariance?\n",
        "\n",
        "    Covariance measures the direction of the linear relationship between two variables.\n",
        "\n",
        "    "
      ],
      "metadata": {
        "id": "1SWApBR1WNFW"
      }
    },
    {
      "cell_type": "markdown",
      "source": [
        "22. What does correlation measure in statistics?\n",
        "\n",
        "    Correlation measures the strength and direction of the linear relationship between two variables."
      ],
      "metadata": {
        "id": "NHjDSlFYWVp1"
      }
    },
    {
      "cell_type": "markdown",
      "source": [
        "23.  What is the difference between covariance and correlation?\n",
        "\n",
        "    covariance:\n",
        "\n",
        "    -\tMeasures the direction of the linear relationship between two variables.\n",
        "    - Can be any real number (positive, negative, or zero), no fixed range.\n",
        "    - Harder to interpret because its value depends on the units of the variables.\n",
        "\n",
        "    correlation:\n",
        "\n",
        "    - Measures both the strength and direction of the linear relationship between two variables.\n",
        "    - Always between -1 and +1.\n",
        "    - Easier to interpret since it’s standardized."
      ],
      "metadata": {
        "id": "YE9z-TDGWe1E"
      }
    },
    {
      "cell_type": "markdown",
      "source": [
        "24. What are some real-world applications of statistics?\n",
        "\n",
        "    - Finance & Economics\n",
        "    - Government & Public Policy\n",
        "    - Business & Marketing\n",
        "    - Healthcare & Medicine"
      ],
      "metadata": {
        "id": "o5r_6HO6W8BA"
      }
    },
    {
      "cell_type": "markdown",
      "source": [
        "**Practical**"
      ],
      "metadata": {
        "id": "XYAgrTYAXLuv"
      }
    },
    {
      "cell_type": "markdown",
      "source": [
        "1.  How do you calculate the mean, median, and mode of a dataset?\n",
        "\n",
        "    **Mean**:\n",
        "\n",
        "    -Add all the numbers in the dataset.\n",
        "\n",
        "    -Divide the total by how many numbers there are.\n",
        "\n",
        "    Example:\n",
        "\n",
        "    Data: 5, 10, 15, 20, 25\n",
        "\n",
        "    Mean = 5 + 10 + 15 + 20 + 25 / 5 = 75 / 5 = 15\n",
        "\n",
        "    **Median**:\n",
        "\n",
        "    -Arrange the data in ascending order.\n",
        "\n",
        "    -If the number of values is:\n",
        "\n",
        "    -Odd: Median is the middle value.\n",
        "\n",
        "    -Even: Median is the average of the two middle values.\n",
        "\n",
        "    example 1: 3, 7, 9 ----> median is 7\n",
        "\n",
        "    example 2: 4, 8, 10, 12\n",
        "                8 + 10 / 2 = 18 / 2 = 9 ---> median\n",
        "                \n",
        "    **Mode**:\n",
        "\n",
        "    -Identify the number that appears most often.\n",
        "\n",
        "    -A dataset may have:\n",
        "\n",
        "        One mode (unimodal)\n",
        "\n",
        "        More than one mode (bimodal, multimodal)\n",
        "\n",
        "        No mode (if all values occur only once)\n",
        "\n",
        "\n",
        "    example:\n",
        "    Single mode:\n",
        "    Data: 2, 4, 4, 6, 8 → Mode = 4\n",
        "\n",
        "    No mode:\n",
        "    Data: 1, 2, 3, 4, 5 → No mode (all unique)\n",
        "\n",
        "    Multiple modes:\n",
        "    Data: 3, 3, 6, 6, 9 → Modes = 3 and 6 (bimodal)\n"
      ],
      "metadata": {
        "id": "EFXjjg444092"
      }
    },
    {
      "cell_type": "markdown",
      "source": [
        "2. Write a Python program to compute the variance and standard deviation of a dataset"
      ],
      "metadata": {
        "id": "OcoxMf7Q6r_U"
      }
    },
    {
      "cell_type": "code",
      "source": [
        "import statistics\n",
        "\n",
        "# Sample dataset\n",
        "data = [10, 15, 20, 25, 30]\n",
        "\n",
        "# --- Using built-in functions ---\n",
        "variance = statistics.variance(data)           # Sample variance\n",
        "std_dev = statistics.stdev(data)               # Sample standard deviation\n",
        "\n",
        "# --- Output ---\n",
        "print(\"Using statistics module:\")\n",
        "print(f\"Variance: {variance}\")\n",
        "print(f\"Standard Deviation: {std_dev}\")\n"
      ],
      "metadata": {
        "colab": {
          "base_uri": "https://localhost:8080/"
        },
        "id": "VB7OvV6h66-f",
        "outputId": "3a353d8d-1785-4132-8308-17e056193447"
      },
      "execution_count": 1,
      "outputs": [
        {
          "output_type": "stream",
          "name": "stdout",
          "text": [
            "Using statistics module:\n",
            "Variance: 62.5\n",
            "Standard Deviation: 7.905694150420948\n"
          ]
        }
      ]
    },
    {
      "cell_type": "markdown",
      "source": [
        "3. Create a dataset and classify it into nominal, ordinal, interval, and ratio types\n",
        "\n",
        "\n",
        "| Student | Gender | Grade Level | Test Score (°C) | Height (cm) |\n",
        "| ------- | ------ | ----------- | --------------- | ----------- |\n",
        "| A       | Female | Excellent   | 80              | 160         |\n",
        "| B       | Male   | Good        | 75              | 170         |\n",
        "| C       | Female | Fair        | 60              | 165         |\n",
        "| D       | Male   | Poor        | 45              | 175         |\n",
        "\n",
        "\n",
        "| Data Column         | Measurement Type | Explanation                                                                                      |\n",
        "| ------------------- | ---------------- | ------------------------------------------------------------------------------------------------ |\n",
        "| **Gender**          | **Nominal**      | Categories with **no order** (Male, Female).                                                     |\n",
        "| **Grade Level**     | **Ordinal**      | Categories with a **meaningful order** (Excellent > Good > Fair > Poor), but not equally spaced. |\n",
        "| **Test Score (°C)** | **Interval**     | Numerical data with **equal intervals**, but **no true zero** (temperature in Celsius).          |\n",
        "| **Height (cm)**     | **Ratio**        | Numerical data with **equal intervals** and a **true zero** — zero means no height.              |\n"
      ],
      "metadata": {
        "id": "ztrzDC4O7EQR"
      }
    },
    {
      "cell_type": "markdown",
      "source": [
        "4. Implement sampling techniques like random sampling and stratified sampling.\n",
        "\n",
        "    "
      ],
      "metadata": {
        "id": "iaPo7Phv7_hn"
      }
    },
    {
      "cell_type": "code",
      "source": [
        "import random\n",
        "\n",
        "# Sample dataset\n",
        "population = ['A', 'B', 'C', 'D', 'E', 'F', 'G', 'H', 'I', 'J']\n",
        "\n",
        "# Randomly select 4 items from the population\n",
        "sample_size = 4\n",
        "random_sample = random.sample(population, sample_size)\n",
        "\n",
        "print(\"Random Sample:\", random_sample)\n"
      ],
      "metadata": {
        "colab": {
          "base_uri": "https://localhost:8080/"
        },
        "id": "tiO8qbFE8UMr",
        "outputId": "1b8db60e-d006-4674-8471-f78686748b24"
      },
      "execution_count": 2,
      "outputs": [
        {
          "output_type": "stream",
          "name": "stdout",
          "text": [
            "Random Sample: ['H', 'G', 'D', 'E']\n"
          ]
        }
      ]
    },
    {
      "cell_type": "code",
      "source": [
        "import pandas as pd\n",
        "\n",
        "# Create a sample dataset with a 'Group' column\n",
        "data = pd.DataFrame({\n",
        "    'Name': ['Anna', 'Ben', 'Cara', 'Dan', 'Eva', 'Finn', 'Gina', 'Hank'],\n",
        "    'Group': ['A', 'A', 'A', 'A', 'B', 'B', 'B', 'B']\n",
        "})\n",
        "\n",
        "# Define sample size per group (e.g., 2 from each group)\n",
        "stratified_sample = data.groupby('Group').sample(n=2, random_state=42)\n",
        "\n",
        "print(\"Stratified Sample:\")\n",
        "print(stratified_sample)\n"
      ],
      "metadata": {
        "colab": {
          "base_uri": "https://localhost:8080/"
        },
        "id": "d6WorfxL8Wo2",
        "outputId": "5a1755e3-ac49-423f-f3cb-5daf4f362190"
      },
      "execution_count": 3,
      "outputs": [
        {
          "output_type": "stream",
          "name": "stdout",
          "text": [
            "Stratified Sample:\n",
            "   Name Group\n",
            "1   Ben     A\n",
            "3   Dan     A\n",
            "5  Finn     B\n",
            "7  Hank     B\n"
          ]
        }
      ]
    },
    {
      "cell_type": "markdown",
      "source": [
        "5. Write a Python function to calculate the range of a dataset?\n"
      ],
      "metadata": {
        "id": "6b6ttnIn8eL-"
      }
    },
    {
      "cell_type": "code",
      "source": [
        "def calculate_range(data):\n",
        "    if not data:\n",
        "        return None  # Return None for empty datasets\n",
        "    return max(data) - min(data)\n",
        "\n",
        "# Example usage\n",
        "dataset = [12, 7, 22, 5, 15]\n",
        "range_value = calculate_range(dataset)\n",
        "\n",
        "print(\"Range of the dataset:\", range_value)\n"
      ],
      "metadata": {
        "colab": {
          "base_uri": "https://localhost:8080/"
        },
        "id": "KM_NnptD_uV0",
        "outputId": "8f00739b-53e6-4d81-8f53-671ec4408e1d"
      },
      "execution_count": 4,
      "outputs": [
        {
          "output_type": "stream",
          "name": "stdout",
          "text": [
            "Range of the dataset: 17\n"
          ]
        }
      ]
    },
    {
      "cell_type": "markdown",
      "source": [
        "6. Create a dataset and plot its histogram to visualize skewness?"
      ],
      "metadata": {
        "id": "kmdhg_wz_yYm"
      }
    },
    {
      "cell_type": "code",
      "source": [
        "import numpy as np\n",
        "import matplotlib.pyplot as plt\n",
        "from scipy.stats import skew\n",
        "\n",
        "# Step 1: Create a positively skewed dataset (e.g., exponential distribution)\n",
        "data = np.random.exponential(scale=2.0, size=1000)\n",
        "\n",
        "# Step 2: Calculate skewness\n",
        "skewness_value = skew(data)\n",
        "\n",
        "# Step 3: Plot histogram\n",
        "plt.hist(data, bins=30, color='skyblue', edgecolor='black')\n",
        "plt.title(f'Histogram of Skewed Data\\nSkewness = {skewness_value:.2f}')\n",
        "plt.xlabel('Value')\n",
        "plt.ylabel('Frequency')\n",
        "plt.grid(True)\n",
        "plt.show()\n"
      ],
      "metadata": {
        "colab": {
          "base_uri": "https://localhost:8080/",
          "height": 493
        },
        "id": "_iFbSKV1A0L0",
        "outputId": "49d030ed-d584-4adf-d947-43b8fcc67676"
      },
      "execution_count": 5,
      "outputs": [
        {
          "output_type": "display_data",
          "data": {
            "text/plain": [
              "<Figure size 640x480 with 1 Axes>"
            ],
            "image/png": "[encoded data removed]"
          },
          "metadata": {}
        }
      ]
    },
    {
      "cell_type": "markdown",
      "source": [
        "7. Calculate skewness and kurtosis of a dataset using Python libraries"
      ],
      "metadata": {
        "id": "JcyyvnrAA54K"
      }
    },
    {
      "cell_type": "code",
      "source": [
        "import numpy as np\n",
        "import pandas as pd\n",
        "from scipy.stats import skew, kurtosis\n",
        "\n",
        "# Step 1: Create a sample dataset\n",
        "data = np.random.exponential(scale=2.0, size=1000)  # Positively skewed data\n",
        "\n",
        "# Step 2: Calculate skewness and kurtosis\n",
        "skewness_value = skew(data)\n",
        "kurtosis_value = kurtosis(data)  # By default, this gives excess kurtosis (normal = 0)\n",
        "\n",
        "# Optional: Use pandas as well\n",
        "data_series = pd.Series(data)\n",
        "pandas_skew = data_series.skew()\n",
        "pandas_kurtosis = data_series.kurt()  # Also excess kurtosis\n",
        "\n",
        "# Step 3: Print results\n",
        "print(\"Using scipy.stats:\")\n",
        "print(f\"Skewness: {skewness_value:.2f}\")\n",
        "print(f\"Kurtosis (excess): {kurtosis_value:.2f}\")\n",
        "\n",
        "print(\"\\nUsing pandas:\")\n",
        "print(f\"Skewness: {pandas_skew:.2f}\")\n",
        "print(f\"Kurtosis (excess): {pandas_kurtosis:.2f}\")\n"
      ],
      "metadata": {
        "colab": {
          "base_uri": "https://localhost:8080/"
        },
        "id": "HwuF1RaIBH87",
        "outputId": "b02cca10-9dcf-4f0b-fa3b-9cf89da92a26"
      },
      "execution_count": 6,
      "outputs": [
        {
          "output_type": "stream",
          "name": "stdout",
          "text": [
            "Using scipy.stats:\n",
            "Skewness: 1.88\n",
            "Kurtosis (excess): 5.08\n",
            "\n",
            "Using pandas:\n",
            "Skewness: 1.88\n",
            "Kurtosis (excess): 5.11\n"
          ]
        }
      ]
    },
    {
      "cell_type": "markdown",
      "source": [
        "8. Generate a dataset and demonstrate positive and negative skewness\n"
      ],
      "metadata": {
        "id": "HL67tCHRBPui"
      }
    },
    {
      "cell_type": "code",
      "source": [
        "# prompt:  Generate a dataset and demonstrate positive and negative skewness5\n",
        "\n",
        "# Generate Positively Skewed Data (e.g., exponential or heavily right-tailed)\n",
        "# Use exponential distribution for a clear positive skew\n",
        "positive_skew_data = np.random.exponential(scale=5.0, size=500)\n",
        "\n",
        "# Generate Negatively Skewed Data (e.g., reflected exponential or heavily left-tailed)\n",
        "# Use the negative of exponential data shifted to positive values\n",
        "# Start with exponential, make it negative, then add a large constant\n",
        "negative_skew_data = -(np.random.exponential(scale=5.0, size=500)) + 30 # Shift to positive range\n",
        "\n",
        "\n",
        "# Calculate skewness values\n",
        "skewness_pos = skew(positive_skew_data)\n",
        "skewness_neg = skew(negative_skew_data)\n",
        "\n",
        "print(f\"Positive Skewness Data Skew: {skewness_pos:.2f}\")\n",
        "print(f\"Negative Skewness Data Skew: {skewness_neg:.2f}\")\n",
        "\n",
        "# Plot Histograms to Visualize Skewness\n",
        "plt.figure(figsize=(12, 5))\n",
        "\n",
        "# Plot Positive Skewed Data\n",
        "plt.subplot(1, 2, 1)\n",
        "plt.hist(positive_skew_data, bins=30, color='salmon', edgecolor='black')\n",
        "plt.title(f'Histogram of Positively Skewed Data\\nSkewness = {skewness_pos:.2f}')\n",
        "plt.xlabel('Value')\n",
        "plt.ylabel('Frequency')\n",
        "plt.grid(True, alpha=0.5)\n",
        "\n",
        "# Plot Negative Skewed Data\n",
        "plt.subplot(1, 2, 2)\n",
        "plt.hist(negative_skew_data, bins=30, color='lightgreen', edgecolor='black')\n",
        "plt.title(f'Histogram of Negatively Skewed Data\\nSkewness = {skewness_neg:.2f}')\n",
        "plt.xlabel('Value')\n",
        "plt.ylabel('Frequency')\n",
        "plt.grid(True, alpha=0.5)\n",
        "\n",
        "plt.tight_layout()\n",
        "plt.show()\n",
        "\n",
        "# Optional: Create a DataFrame for demonstration\n",
        "data_dict = {\n",
        "    'Positive_Skew': positive_skew_data,\n",
        "    'Negative_Skew': negative_skew_data\n",
        "}\n",
        "df_skew = pd.DataFrame(data_dict)\n",
        "\n",
        "print(\"\\nSample DataFrame Head:\")\n",
        "print(df_skew.head())\n",
        "\n",
        "print(\"\\nDescribe DataFrame (showing means and relationship to skew):\")\n",
        "print(df_skew.describe())\n",
        "\n",
        "# Observe:\n",
        "# For Positive_Skew, the mean is typically > median.\n",
        "# For Negative_Skew, the mean is typically < median.\n"
      ],
      "metadata": {
        "colab": {
          "base_uri": "https://localhost:8080/",
          "height": 871
        },
        "id": "trvqv84eBfye",
        "outputId": "70321855-b4d8-44c2-c960-6c9391568013"
      },
      "execution_count": 7,
      "outputs": [
        {
          "output_type": "stream",
          "name": "stdout",
          "text": [
            "Positive Skewness Data Skew: 1.76\n",
            "Negative Skewness Data Skew: -2.09\n"
          ]
        },
        {
          "output_type": "display_data",
          "data": {
            "text/plain": [
              "<Figure size 1200x500 with 2 Axes>"
            ],
            "image/png": "[encoded data removed]"
          },
          "metadata": {}
        },
        {
          "output_type": "stream",
          "name": "stdout",
          "text": [
            "\n",
            "Sample DataFrame Head:\n",
            "   Positive_Skew  Negative_Skew\n",
            "0       2.494362      18.580329\n",
            "1       1.879026      28.853653\n",
            "2       3.325216      29.796381\n",
            "3       2.307727      27.063606\n",
            "4       2.603669      22.028167\n",
            "\n",
            "Describe DataFrame (showing means and relationship to skew):\n",
            "       Positive_Skew  Negative_Skew\n",
            "count     500.000000     500.000000\n",
            "mean        5.024006      24.771860\n",
            "std         4.652410       5.231765\n",
            "min         0.023159      -3.884719\n",
            "25%         1.720014      22.737623\n",
            "50%         3.661302      26.593337\n",
            "75%         7.187809      28.272099\n",
            "max        29.264526      29.999001\n"
          ]
        }
      ]
    },
    {
      "cell_type": "markdown",
      "source": [
        "9. Write a Python script to calculate covariance between two datasets"
      ],
      "metadata": {
        "id": "CGysH-ctB6lX"
      }
    },
    {
      "cell_type": "code",
      "source": [
        "import numpy as np\n",
        "\n",
        "# Sample datasets\n",
        "x = [10, 20, 30, 40, 50]\n",
        "y = [5, 15, 25, 35, 45]\n",
        "\n",
        "# --- Method 1: Manual calculation ---\n",
        "def calculate_covariance(x, y):\n",
        "    if len(x) != len(y):\n",
        "        raise ValueError(\"Datasets must have the same length.\")\n",
        "\n",
        "    mean_x = sum(x) / len(x)\n",
        "    mean_y = sum(y) / len(y)\n",
        "\n",
        "    covariance = sum((xi - mean_x) * (yi - mean_y) for xi, yi in zip(x, y)) / (len(x) - 1)\n",
        "    return covariance\n",
        "\n",
        "manual_cov = calculate_covariance(x, y)\n",
        "\n",
        "# --- Method 2: Using NumPy ---\n",
        "cov_matrix = np.cov(x, y, bias=False)  # bias=False gives sample covariance\n",
        "numpy_cov = cov_matrix[0][1]  # Off-diagonal element is the covariance\n",
        "\n",
        "# --- Output ---\n",
        "print(\"Manual Covariance:\", manual_cov)\n",
        "print(\"NumPy Covariance:\", numpy_cov)\n"
      ],
      "metadata": {
        "colab": {
          "base_uri": "https://localhost:8080/"
        },
        "id": "l_ZQFkgiB_KC",
        "outputId": "ea0208fa-74a9-49d7-c1dc-59be5c525285"
      },
      "execution_count": 8,
      "outputs": [
        {
          "output_type": "stream",
          "name": "stdout",
          "text": [
            "Manual Covariance: 250.0\n",
            "NumPy Covariance: 250.0\n"
          ]
        }
      ]
    },
    {
      "cell_type": "markdown",
      "source": [
        "10.  Write a Python script to calculate the correlation coefficient between two datasets"
      ],
      "metadata": {
        "id": "FWJc_r6kCJR_"
      }
    },
    {
      "cell_type": "code",
      "source": [
        "import numpy as np\n",
        "\n",
        "# Sample datasets\n",
        "x = [10, 20, 30, 40, 50]\n",
        "y = [5, 15, 25, 35, 45]\n",
        "\n",
        "# --- Method 1: Manual calculation ---\n",
        "def calculate_covariance(x, y):\n",
        "    if len(x) != len(y):\n",
        "        raise ValueError(\"Datasets must have the same length.\")\n",
        "\n",
        "    mean_x = sum(x) / len(x)\n",
        "    mean_y = sum(y) / len(y)\n",
        "\n",
        "    covariance = sum((xi - mean_x) * (yi - mean_y) for xi, yi in zip(x, y)) / (len(x) - 1)\n",
        "    return covariance\n",
        "\n",
        "manual_cov = calculate_covariance(x, y)\n",
        "\n",
        "# --- Method 2: Using NumPy ---\n",
        "cov_matrix = np.cov(x, y, bias=False)  # bias=False gives sample covariance\n",
        "numpy_cov = cov_matrix[0][1]  # Off-diagonal element is the covariance\n",
        "\n",
        "# --- Output ---\n",
        "print(\"Manual Covariance:\", manual_cov)\n",
        "print(\"NumPy Covariance:\", numpy_cov)\n"
      ],
      "metadata": {
        "colab": {
          "base_uri": "https://localhost:8080/"
        },
        "id": "pjDLwkAFCOtQ",
        "outputId": "6220a75b-ad0e-42b5-884a-7a4bdd983aab"
      },
      "execution_count": 10,
      "outputs": [
        {
          "output_type": "stream",
          "name": "stdout",
          "text": [
            "Manual Covariance: 250.0\n",
            "NumPy Covariance: 250.0\n"
          ]
        }
      ]
    },
    {
      "cell_type": "markdown",
      "source": [
        "11. Create a scatter plot to visualize the relationship between two variables"
      ],
      "metadata": {
        "id": "qSzVFItuCnL5"
      }
    },
    {
      "cell_type": "code",
      "source": [
        "import matplotlib.pyplot as plt\n",
        "\n",
        "# Sample data\n",
        "x = [10, 20, 30, 40, 50]\n",
        "y = [8, 18, 28, 35, 48]\n",
        "\n",
        "# Create scatter plot\n",
        "plt.scatter(x, y, color='blue', edgecolor='black')\n",
        "\n",
        "# Add labels and title\n",
        "plt.title('Scatter Plot of X vs Y')\n",
        "plt.xlabel('X (Independent Variable)')\n",
        "plt.ylabel('Y (Dependent Variable)')\n",
        "plt.grid(True)\n",
        "\n",
        "# Show the plot\n",
        "plt.show()\n"
      ],
      "metadata": {
        "colab": {
          "base_uri": "https://localhost:8080/",
          "height": 472
        },
        "id": "L4hT_uqsEfvH",
        "outputId": "ff31cc8a-bbae-48fb-e919-adf485e83083"
      },
      "execution_count": 11,
      "outputs": [
        {
          "output_type": "display_data",
          "data": {
            "text/plain": [
              "<Figure size 640x480 with 1 Axes>"
            ],
            "image/png": "[encoded data removed]"
          },
          "metadata": {}
        }
      ]
    },
    {
      "cell_type": "markdown",
      "source": [
        "12.  Implement and compare simple random sampling and systematic sampling"
      ],
      "metadata": {
        "id": "_vUH3j96EiRi"
      }
    },
    {
      "cell_type": "code",
      "source": [
        "import random\n",
        "\n",
        "# Sample population dataset (e.g., IDs from 1 to 20)\n",
        "population = list(range(1, 21))\n",
        "\n",
        "sample_size = 5  # Number of samples to draw\n",
        "\n",
        "# --- Simple Random Sampling ---\n",
        "def simple_random_sampling(population, sample_size):\n",
        "    return random.sample(population, sample_size)\n",
        "\n",
        "# --- Systematic Sampling ---\n",
        "def systematic_sampling(population, sample_size):\n",
        "    N = len(population)\n",
        "    k = N // sample_size  # Sampling interval\n",
        "    start = random.randint(0, k - 1)  # Random start between 0 and k-1\n",
        "    return [population[i] for i in range(start, N, k)][:sample_size]\n",
        "\n",
        "# Get samples\n",
        "random_sample = simple_random_sampling(population, sample_size)\n",
        "systematic_sample = systematic_sampling(population, sample_size)\n",
        "\n",
        "# Output results\n",
        "print(\"Population:\", population)\n",
        "print(\"Simple Random Sample:\", random_sample)\n",
        "print(\"Systematic Sample:\", systematic_sample)\n"
      ],
      "metadata": {
        "colab": {
          "base_uri": "https://localhost:8080/"
        },
        "id": "DCv3m5m0Ewl6",
        "outputId": "d32bf903-ce9c-45e0-92b8-80da12729397"
      },
      "execution_count": 12,
      "outputs": [
        {
          "output_type": "stream",
          "name": "stdout",
          "text": [
            "Population: [1, 2, 3, 4, 5, 6, 7, 8, 9, 10, 11, 12, 13, 14, 15, 16, 17, 18, 19, 20]\n",
            "Simple Random Sample: [7, 13, 9, 8, 12]\n",
            "Systematic Sample: [2, 6, 10, 14, 18]\n"
          ]
        }
      ]
    },
    {
      "cell_type": "markdown",
      "source": [
        "13. Calculate the mean, median, and mode of grouped data"
      ],
      "metadata": {
        "id": "ExAz7GwmEy7i"
      }
    },
    {
      "cell_type": "code",
      "source": [
        "def grouped_data_stats(classes, freq):\n",
        "    # Calculate midpoints\n",
        "    midpoints = [(c[0] + c[1]) / 2 for c in classes]\n",
        "    n = sum(freq)\n",
        "\n",
        "    # --- Mean ---\n",
        "    mean = sum(f * x for f, x in zip(freq, midpoints)) / n\n",
        "\n",
        "    # --- Median ---\n",
        "    cumulative_freq = [sum(freq[:i+1]) for i in range(len(freq))]\n",
        "    half_n = n / 2\n",
        "    median_class_index = next(i for i, cf in enumerate(cumulative_freq) if cf >= half_n)\n",
        "\n",
        "    L = classes[median_class_index][0]\n",
        "    F = cumulative_freq[median_class_index - 1] if median_class_index != 0 else 0\n",
        "    f_m = freq[median_class_index]\n",
        "    h = classes[0][1] - classes[0][0]\n",
        "\n",
        "    median = L + ((half_n - F) / f_m) * h\n",
        "\n",
        "    # --- Mode ---\n",
        "    modal_class_index = freq.index(max(freq))\n",
        "    L_m = classes[modal_class_index][0]\n",
        "    f_1 = freq[modal_class_index]\n",
        "    f_0 = freq[modal_class_index - 1] if modal_class_index != 0 else 0\n",
        "    f_2 = freq[modal_class_index + 1] if modal_class_index != len(freq) - 1 else 0\n",
        "\n",
        "    mode = L_m + ((f_1 - f_0) / ((2 * f_1) - f_0 - f_2)) * h\n",
        "\n",
        "    return mean, median, mode\n",
        "\n",
        "# Example dataset\n",
        "classes = [(10,20), (20,30), (30,40), (40,50), (50,60)]\n",
        "freq = [5, 8, 12, 7, 3]\n",
        "\n",
        "mean, median, mode = grouped_data_stats(classes, freq)\n",
        "\n",
        "print(f\"Mean: {mean:.2f}\")\n",
        "print(f\"Median: {median:.2f}\")\n",
        "print(f\"Mode: {mode:.2f}\")\n"
      ],
      "metadata": {
        "colab": {
          "base_uri": "https://localhost:8080/"
        },
        "id": "0Du75dMBFOEG",
        "outputId": "78848ae0-16d4-4bdc-a7a8-96815740f9a4"
      },
      "execution_count": 13,
      "outputs": [
        {
          "output_type": "stream",
          "name": "stdout",
          "text": [
            "Mean: 33.57\n",
            "Median: 33.75\n",
            "Mode: 34.44\n"
          ]
        }
      ]
    },
    {
      "cell_type": "markdown",
      "source": [
        "14. Simulate data using Python and calculate its central tendency and dispersion."
      ],
      "metadata": {
        "id": "CD0Yb1aXFP6I"
      }
    },
    {
      "cell_type": "code",
      "source": [
        "import numpy as np\n",
        "from scipy import stats\n",
        "\n",
        "# Step 1: Simulate data (e.g., normal distribution)\n",
        "np.random.seed(42)  # For reproducibility\n",
        "data = np.random.normal(loc=50, scale=10, size=1000)  # Mean=50, SD=10, n=1000\n",
        "\n",
        "# Step 2: Calculate central tendency\n",
        "mean = np.mean(data)\n",
        "median = np.median(data)\n",
        "mode = stats.mode(data, keepdims=True).mode[0]  # Mode might not be meaningful for continuous data\n",
        "\n",
        "# Step 3: Calculate dispersion\n",
        "variance = np.var(data, ddof=1)  # Sample variance (ddof=1)\n",
        "std_dev = np.std(data, ddof=1)   # Sample standard deviation\n",
        "data_range = np.ptp(data)        # Range (max - min)\n",
        "\n",
        "# Step 4: Print results\n",
        "print(f\"Mean: {mean:.2f}\")\n",
        "print(f\"Median: {median:.2f}\")\n",
        "print(f\"Mode: {mode:.2f}\")\n",
        "print(f\"Variance: {variance:.2f}\")\n",
        "print(f\"Standard Deviation: {std_dev:.2f}\")\n",
        "print(f\"Range: {data_range:.2f}\")\n"
      ],
      "metadata": {
        "colab": {
          "base_uri": "https://localhost:8080/"
        },
        "id": "JZuKQro1FZh4",
        "outputId": "cf402df2-9a75-4096-c9aa-eb32b034ef9c"
      },
      "execution_count": 14,
      "outputs": [
        {
          "output_type": "stream",
          "name": "stdout",
          "text": [
            "Mean: 50.19\n",
            "Median: 50.25\n",
            "Mode: 17.59\n",
            "Variance: 95.89\n",
            "Standard Deviation: 9.79\n",
            "Range: 70.94\n"
          ]
        }
      ]
    },
    {
      "cell_type": "markdown",
      "source": [
        "15. Use NumPy or pandas to summarize a dataset’s descriptive statistics\n"
      ],
      "metadata": {
        "id": "WSH2YVBGFhYf"
      }
    },
    {
      "cell_type": "code",
      "source": [
        "import pandas as pd\n",
        "import numpy as np\n",
        "\n",
        "# Simulate a dataset\n",
        "np.random.seed(42)\n",
        "data = np.random.normal(loc=100, scale=15, size=1000)\n",
        "\n",
        "# Convert to pandas Series\n",
        "data_series = pd.Series(data)\n",
        "\n",
        "# Get descriptive statistics\n",
        "summary = data_series.describe()\n",
        "\n",
        "print(summary)\n"
      ],
      "metadata": {
        "colab": {
          "base_uri": "https://localhost:8080/"
        },
        "id": "CtdJEqJVFvho",
        "outputId": "9e01e9cc-25b6-410d-b852-c014f1efe2af"
      },
      "execution_count": 15,
      "outputs": [
        {
          "output_type": "stream",
          "name": "stdout",
          "text": [
            "count    1000.000000\n",
            "mean      100.289981\n",
            "std        14.688239\n",
            "min        51.380990\n",
            "25%        90.286145\n",
            "50%       100.379509\n",
            "75%       109.719158\n",
            "max       157.790972\n",
            "dtype: float64\n"
          ]
        }
      ]
    },
    {
      "cell_type": "markdown",
      "source": [
        "16. Plot a boxplot to understand the spread and identify outliers"
      ],
      "metadata": {
        "id": "nmtawxEwFydS"
      }
    },
    {
      "cell_type": "code",
      "source": [
        "import numpy as np\n",
        "import matplotlib.pyplot as plt\n",
        "import seaborn as sns\n",
        "\n",
        "# Simulate data with some outliers\n",
        "np.random.seed(42)\n",
        "data = np.random.normal(loc=50, scale=10, size=100)\n",
        "outliers = np.array([100, 110, 120])\n",
        "data_with_outliers = np.concatenate([data, outliers])\n",
        "\n",
        "# Using matplotlib\n",
        "plt.boxplot(data_with_outliers, vert=True, patch_artist=True)\n",
        "plt.title(\"Boxplot of Data with Outliers\")\n",
        "plt.ylabel(\"Values\")\n",
        "plt.grid(True)\n",
        "plt.show()\n",
        "\n",
        "# Optional: Using seaborn for nicer plot\n",
        "sns.boxplot(data=data_with_outliers)\n",
        "plt.title(\"Boxplot of Data with Outliers (Seaborn)\")\n",
        "plt.show()\n"
      ],
      "metadata": {
        "colab": {
          "base_uri": "https://localhost:8080/",
          "height": 868
        },
        "id": "XKnaprGVF--M",
        "outputId": "2ff76fc5-f21d-401e-a0c0-4e3c38b04310"
      },
      "execution_count": 16,
      "outputs": [
        {
          "output_type": "display_data",
          "data": {
            "text/plain": [
              "<Figure size 640x480 with 1 Axes>"
            ],
            "image/png": "[encoded data removed]"
          },
          "metadata": {}
        },
        {
          "output_type": "display_data",
          "data": {
            "text/plain": [
              "<Figure size 640x480 with 1 Axes>"
            ],
            "image/png": "[encoded data removed]"
          },
          "metadata": {}
        }
      ]
    },
    {
      "cell_type": "markdown",
      "source": [
        "17. Calculate the interquartile range (IQR) of a dataset"
      ],
      "metadata": {
        "id": "ejJj-S_NGDFe"
      }
    },
    {
      "cell_type": "code",
      "source": [
        "import numpy as np\n",
        "\n",
        "# Sample dataset\n",
        "data = [12, 7, 3, 21, 13, 18, 25, 30, 5, 9]\n",
        "\n",
        "# Calculate Q1 and Q3\n",
        "Q1 = np.percentile(data, 25)\n",
        "Q3 = np.percentile(data, 75)\n",
        "\n",
        "# Calculate IQR\n",
        "IQR = Q3 - Q1\n",
        "\n",
        "print(f\"Q1 (25th percentile): {Q1}\")\n",
        "print(f\"Q3 (75th percentile): {Q3}\")\n",
        "print(f\"Interquartile Range (IQR): {IQR}\")\n"
      ],
      "metadata": {
        "colab": {
          "base_uri": "https://localhost:8080/"
        },
        "id": "YY1S3xAkGTuh",
        "outputId": "8c719341-6097-432a-8cdb-32681107dcbf"
      },
      "execution_count": 17,
      "outputs": [
        {
          "output_type": "stream",
          "name": "stdout",
          "text": [
            "Q1 (25th percentile): 7.5\n",
            "Q3 (75th percentile): 20.25\n",
            "Interquartile Range (IQR): 12.75\n"
          ]
        }
      ]
    },
    {
      "cell_type": "markdown",
      "source": [
        "18. Implement Z-score normalization and explain its significance"
      ],
      "metadata": {
        "id": "A5zKc9edGaJs"
      }
    },
    {
      "cell_type": "code",
      "source": [
        "import numpy as np\n",
        "\n",
        "# Sample data\n",
        "data = np.array([10, 15, 20, 25, 30])\n",
        "\n",
        "# Calculate mean and standard deviation\n",
        "mean = np.mean(data)\n",
        "std_dev = np.std(data)\n",
        "\n",
        "# Z-score normalization\n",
        "z_scores = (data - mean) / std_dev\n",
        "\n",
        "print(\"Original data:\", data)\n",
        "print(\"Mean:\", mean)\n",
        "print(\"Standard Deviation:\", std_dev)\n",
        "print(\"Z-score normalized data:\", z_scores)\n"
      ],
      "metadata": {
        "colab": {
          "base_uri": "https://localhost:8080/"
        },
        "id": "qukhuli8Gjr1",
        "outputId": "23308e0e-8315-40cc-8379-4baeab12d5dc"
      },
      "execution_count": 18,
      "outputs": [
        {
          "output_type": "stream",
          "name": "stdout",
          "text": [
            "Original data: [10 15 20 25 30]\n",
            "Mean: 20.0\n",
            "Standard Deviation: 7.0710678118654755\n",
            "Z-score normalized data: [-1.41421356 -0.70710678  0.          0.70710678  1.41421356]\n"
          ]
        }
      ]
    },
    {
      "cell_type": "markdown",
      "source": [
        "19.  Compare two datasets using their standard deviations"
      ],
      "metadata": {
        "id": "9FtdF4LWGuKa"
      }
    },
    {
      "cell_type": "code",
      "source": [
        "import numpy as np\n",
        "\n",
        "# Two sample datasets\n",
        "data1 = [10, 12, 14, 16, 18, 20]\n",
        "data2 = [8, 15, 10, 22, 30, 5]\n",
        "\n",
        "# Calculate means\n",
        "mean1 = np.mean(data1)\n",
        "mean2 = np.mean(data2)\n",
        "\n",
        "# Calculate standard deviations (sample std dev)\n",
        "std_dev1 = np.std(data1, ddof=1)\n",
        "std_dev2 = np.std(data2, ddof=1)\n",
        "\n",
        "print(f\"Dataset 1 - Mean: {mean1}, Standard Deviation: {std_dev1:.2f}\")\n",
        "print(f\"Dataset 2 - Mean: {mean2}, Standard Deviation: {std_dev2:.2f}\")\n",
        "\n",
        "# Interpretation\n",
        "if std_dev1 > std_dev2:\n",
        "    print(\"Dataset 1 is more spread out than Dataset 2.\")\n",
        "elif std_dev1 < std_dev2:\n",
        "    print(\"Dataset 2 is more spread out than Dataset 1.\")\n",
        "else:\n",
        "    print(\"Both datasets have the same variability.\")\n"
      ],
      "metadata": {
        "colab": {
          "base_uri": "https://localhost:8080/"
        },
        "id": "bES4DOsmG2OP",
        "outputId": "52847058-c058-4a85-a01e-66cade037fca"
      },
      "execution_count": 19,
      "outputs": [
        {
          "output_type": "stream",
          "name": "stdout",
          "text": [
            "Dataset 1 - Mean: 15.0, Standard Deviation: 3.74\n",
            "Dataset 2 - Mean: 15.0, Standard Deviation: 9.47\n",
            "Dataset 2 is more spread out than Dataset 1.\n"
          ]
        }
      ]
    },
    {
      "cell_type": "markdown",
      "source": [
        "20.  Write a Python program to visualize covariance using a heatmap"
      ],
      "metadata": {
        "id": "sJAdHHZGG5MS"
      }
    },
    {
      "cell_type": "code",
      "source": [
        "import numpy as np\n",
        "import seaborn as sns\n",
        "import matplotlib.pyplot as plt\n",
        "\n",
        "# Simulate a dataset with 3 variables and 100 samples\n",
        "np.random.seed(42)\n",
        "data = np.random.randn(100, 3)\n",
        "\n",
        "# Calculate covariance matrix\n",
        "cov_matrix = np.cov(data, rowvar=False)\n",
        "\n",
        "# Create labels for variables\n",
        "labels = ['Variable 1', 'Variable 2', 'Variable 3']\n",
        "\n",
        "# Plot heatmap\n",
        "plt.figure(figsize=(6, 5))\n",
        "sns.heatmap(cov_matrix, annot=True, fmt=\".2f\", cmap='coolwarm', xticklabels=labels, yticklabels=labels)\n",
        "plt.title(\"Covariance Matrix Heatmap\")\n",
        "plt.show()\n"
      ],
      "metadata": {
        "colab": {
          "base_uri": "https://localhost:8080/",
          "height": 468
        },
        "id": "oOZ4h1szHBeu",
        "outputId": "d53757af-b134-4f4a-ece0-bd9c894a2d82"
      },
      "execution_count": 20,
      "outputs": [
        {
          "output_type": "display_data",
          "data": {
            "text/plain": [
              "<Figure size 600x500 with 2 Axes>"
            ],
            "image/png": "[encoded data removed]"
          },
          "metadata": {}
        }
      ]
    },
    {
      "cell_type": "markdown",
      "source": [
        "21.  Use seaborn to create a correlation matrix for a dataset"
      ],
      "metadata": {
        "id": "b9C_avCmHFBZ"
      }
    },
    {
      "cell_type": "code",
      "source": [
        "import numpy as np\n",
        "import pandas as pd\n",
        "import seaborn as sns\n",
        "import matplotlib.pyplot as plt\n",
        "\n",
        "# Simulate a dataset with 4 variables and 100 samples\n",
        "np.random.seed(42)\n",
        "data = pd.DataFrame({\n",
        "    'Var1': np.random.normal(0, 1, 100),\n",
        "    'Var2': np.random.normal(5, 2, 100),\n",
        "    'Var3': np.random.normal(-3, 5, 100),\n",
        "    'Var4': np.random.normal(10, 3, 100),\n",
        "})\n",
        "\n",
        "# Calculate correlation matrix\n",
        "corr_matrix = data.corr()\n",
        "\n",
        "# Plot heatmap\n",
        "plt.figure(figsize=(8, 6))\n",
        "sns.heatmap(corr_matrix, annot=True, cmap='coolwarm', center=0)\n",
        "plt.title('Correlation Matrix Heatmap')\n",
        "plt.show()\n"
      ],
      "metadata": {
        "colab": {
          "base_uri": "https://localhost:8080/",
          "height": 545
        },
        "id": "QSwfUi2LHO1q",
        "outputId": "2335ba5d-6314-4708-b1a8-6ba77b2ed121"
      },
      "execution_count": 21,
      "outputs": [
        {
          "output_type": "display_data",
          "data": {
            "text/plain": [
              "<Figure size 800x600 with 2 Axes>"
            ],
            "image/png": "[encoded data removed]"
          },
          "metadata": {}
        }
      ]
    },
    {
      "cell_type": "markdown",
      "source": [
        "22.  Generate a dataset and implement both variance and standard deviation computations"
      ],
      "metadata": {
        "id": "gzcfmq3bHR0V"
      }
    },
    {
      "cell_type": "code",
      "source": [
        "import numpy as np\n",
        "\n",
        "# Generate a dataset of 15 random numbers (e.g., integers between 1 and 100)\n",
        "np.random.seed(42)\n",
        "data = np.random.randint(1, 101, size=15)\n",
        "print(\"Dataset:\", data)\n",
        "\n",
        "# Calculate mean\n",
        "mean = np.mean(data)\n",
        "\n",
        "# Manual variance calculation (sample variance, ddof=1)\n",
        "variance_manual = sum((x - mean) ** 2 for x in data) / (len(data) - 1)\n",
        "\n",
        "# Manual standard deviation calculation\n",
        "std_dev_manual = variance_manual ** 0.5\n",
        "\n",
        "# Using NumPy functions (sample variance and std deviation)\n",
        "variance_np = np.var(data, ddof=1)\n",
        "std_dev_np = np.std(data, ddof=1)\n",
        "\n",
        "print(f\"Manual Variance: {variance_manual:.2f}\")\n",
        "print(f\"NumPy Variance: {variance_np:.2f}\")\n",
        "\n",
        "print(f\"Manual Standard Deviation: {std_dev_manual:.2f}\")\n",
        "print(f\"NumPy Standard Deviation: {std_dev_np:.2f}\")\n"
      ],
      "metadata": {
        "colab": {
          "base_uri": "https://localhost:8080/"
        },
        "id": "cbcrBwNRHpKz",
        "outputId": "118e4cd9-c0af-4e20-906b-1101a3ab883a"
      },
      "execution_count": 22,
      "outputs": [
        {
          "output_type": "stream",
          "name": "stdout",
          "text": [
            "Dataset: [ 52  93  15  72  61  21  83  87  75  75  88 100  24   3  22]\n",
            "Manual Variance: 1062.07\n",
            "NumPy Variance: 1062.07\n",
            "Manual Standard Deviation: 32.59\n",
            "NumPy Standard Deviation: 32.59\n"
          ]
        }
      ]
    },
    {
      "cell_type": "markdown",
      "source": [
        "23. Visualize skewness and kurtosis using Python libraries like matplotlib or seaborn"
      ],
      "metadata": {
        "id": "hLhuxk5FHr0j"
      }
    },
    {
      "cell_type": "code",
      "source": [
        "import numpy as np\n",
        "import seaborn as sns\n",
        "import matplotlib.pyplot as plt\n",
        "from scipy.stats import skew, kurtosis\n",
        "\n",
        "# Generate skewed dataset (e.g., exponential distribution)\n",
        "np.random.seed(42)\n",
        "data = np.random.exponential(scale=2, size=1000)\n",
        "\n",
        "# Calculate skewness and kurtosis\n",
        "data_skewness = skew(data)\n",
        "data_kurtosis = kurtosis(data)  # excess kurtosis (Fisher’s definition)\n",
        "\n",
        "# Plot histogram with KDE\n",
        "plt.figure(figsize=(8, 6))\n",
        "sns.histplot(data, bins=30, kde=True, color='skyblue')\n",
        "plt.title(\"Data Distribution with Skewness and Kurtosis\")\n",
        "\n",
        "# Annotate skewness and kurtosis on the plot\n",
        "plt.text(x=max(data)*0.6, y=100, s=f\"Skewness: {data_skewness:.2f}\", fontsize=12)\n",
        "plt.text(x=max(data)*0.6, y=80, s=f\"Kurtosis: {data_kurtosis:.2f}\", fontsize=12)\n",
        "\n",
        "plt.xlabel(\"Value\")\n",
        "plt.ylabel(\"Frequency\")\n",
        "plt.show()\n"
      ],
      "metadata": {
        "colab": {
          "base_uri": "https://localhost:8080/",
          "height": 564
        },
        "id": "RuWFAnfyH04i",
        "outputId": "a95b64c0-0b7a-42c3-c47b-d774f5e1c1e1"
      },
      "execution_count": 23,
      "outputs": [
        {
          "output_type": "display_data",
          "data": {
            "text/plain": [
              "<Figure size 800x600 with 1 Axes>"
            ],
            "image/png": "[encoded data removed]"
          },
          "metadata": {}
        }
      ]
    },
    {
      "cell_type": "markdown",
      "source": [
        "24.  Implement the Pearson and Spearman correlation coefficients for a dataset."
      ],
      "metadata": {
        "id": "5UR6t6uWH6Rx"
      }
    },
    {
      "cell_type": "code",
      "source": [
        "import numpy as np\n",
        "from scipy.stats import pearsonr, spearmanr\n",
        "\n",
        "# Simulate two related variables\n",
        "np.random.seed(42)\n",
        "x = np.random.normal(0, 1, 100)\n",
        "# Create y with some non-linear relationship + noise\n",
        "y = np.sin(x) + np.random.normal(0, 0.1, 100)\n",
        "\n",
        "# Calculate Pearson correlation coefficient and p-value\n",
        "pearson_corr, pearson_p = pearsonr(x, y)\n",
        "\n",
        "# Calculate Spearman correlation coefficient and p-value\n",
        "spearman_corr, spearman_p = spearmanr(x, y)\n",
        "\n",
        "print(f\"Pearson correlation: {pearson_corr:.3f} (p-value: {pearson_p:.3f})\")\n",
        "print(f\"Spearman correlation: {spearman_corr:.3f} (p-value: {spearman_p:.3f})\")\n"
      ],
      "metadata": {
        "colab": {
          "base_uri": "https://localhost:8080/"
        },
        "id": "bcVue0SAH9i5",
        "outputId": "495d739d-8bf5-4c2c-da13-45ce323ac3ee"
      },
      "execution_count": 24,
      "outputs": [
        {
          "output_type": "stream",
          "name": "stdout",
          "text": [
            "Pearson correlation: 0.938 (p-value: 0.000)\n",
            "Spearman correlation: 0.978 (p-value: 0.000)\n"
          ]
        }
      ]
    }
  ]
}